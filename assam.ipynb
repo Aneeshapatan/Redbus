from selenium import webdriver
from selenium.webdriver.common.by import By
from selenium.webdriver.support.ui import WebDriverWait
from selenium.webdriver.support import expected_conditions as EC
import time
import pandas as pd

def initialize_driver():
    options = webdriver.ChromeOptions()
    options.add_argument("--start-maximized")
    driver = webdriver.Chrome(options=options)
    return driver

def load_page(driver, url):
    driver.get(url)
    time.sleep(5)

def scrape_bus_routes(driver):
    try:
        route_elements = WebDriverWait(driver, 10).until(
            EC.presence_of_all_elements_located((By.CLASS_NAME, 'route'))
        )
        bus_routes_link = [route.get_attribute('href') for route in route_elements if route.get_attribute('href')]
        bus_routes_name = [route.text.strip() for route in route_elements if route.text.strip()]
        return bus_routes_link, bus_routes_name
    except Exception as e:
        print(f"Error scraping bus routes: {e}")
        return [], []

def scrape_bus_details(driver, url, route_name):
    try:
        driver.get(url)
        time.sleep(5)

        try:
            view_buses_button = WebDriverWait(driver, 10).until(
                EC.element_to_be_clickable((By.CLASS_NAME, "button"))
            )
            driver.execute_script("arguments[0].click();", view_buses_button)
            time.sleep(5)  # Wait for buses to load
        except Exception as e:
            print(f"View Buses button not found: {e}")
            return []

        driver.execute_script("window.scrollTo(0, document.body.scrollHeight);")
        time.sleep(5)

        # Extract bus details
        bus_name_elements = driver.find_elements(By.CLASS_NAME, "travels.lh-24.f-bold.d-color")
        bus_type_elements = driver.find_elements(By.CLASS_NAME, "bus-type.f-12.m-top-16.l-color.evBus")
        departing_time_elements = driver.find_elements(By.CLASS_NAME, "dp-time.f-19.d-color.f-bold")
        duration_elements = driver.find_elements(By.CLASS_NAME, "dur.l-color.lh-24")
        reaching_time_elements = driver.find_elements(By.CLASS_NAME, "bp-time.f-19.d-color.disp-Inline")
        star_rating_elements = driver.find_elements(By.XPATH, "//div[@class='rating-sec lh-24']")
        price_elements = driver.find_elements(By.CLASS_NAME, "fare.d-block")
        seat_availability_elements = driver.find_elements(
            By.XPATH, "//div[contains(@class, 'seat-left m-top-30') or contains(@class, 'seat-left m-top-16')]"
        )

        bus_details = []
        for i in range(len(bus_name_elements)):
            bus_detail = {
                "Route_Name": route_name,
                "Route_Link": url,
                "Bus_Name": bus_name_elements[i].text,
                "Bus_Type": bus_type_elements[i].text,
                "Departing_Time": departing_time_elements[i].text,
                "Duration": duration_elements[i].text,
                "Reaching_Time": reaching_time_elements[i].text,
                "Star_Rating": star_rating_elements[i].text if i < len(star_rating_elements) else '0',
                "Price": price_elements[i].text,
                "Seat_Availability": seat_availability_elements[i].text if i < len(seat_availability_elements) else '0'
            }
            bus_details.append(bus_detail)
        return bus_details

    except Exception as e:
        print(f"Error occurred while scraping bus details for {url}: {str(e)}")
        return []

def scrape_all_pages(driver, base_url):
    all_bus_details = []

    for page in range(1, 6):
        try:
            load_page(driver, base_url)

            if page > 1:
                pagination_tab = WebDriverWait(driver, 10).until(
                    EC.presence_of_element_located((By.XPATH, f"//div[contains(@class, 'DC_117_pageTabs')][text()='{page}']"))
                )
                driver.execute_script("arguments[0].scrollIntoView();", pagination_tab)
                driver.execute_script("arguments[0].click();", pagination_tab)
                time.sleep(5)

            all_bus_routes_link, all_bus_routes_name = scrape_bus_routes(driver)

            for link, name in zip(all_bus_routes_link, all_bus_routes_name):
                bus_details = scrape_bus_details(driver, link, name)
                if bus_details:
                    all_bus_details.extend(bus_details)

        except Exception as e:
            print(f"Error occurred while accessing page {page}: {str(e)}")

    return all_bus_details

if __name__ == "__main__":
    URL = "https://www.redbus.in/online-booking/astc/?utm_source=rtchometile"
    driver = initialize_driver()
    try:
        all_bus_details = scrape_all_pages(driver, URL)
        df = pd.DataFrame(all_bus_details)
        df.to_csv('assam_bus_details.csv', index=False)
        print("Scraping completed and data saved to 'assam_bus_details.csv'")
    finally:
        driver.quit()
View Buses button not found: Message: 
Stacktrace:
	GetHandleVerifier [0x00007FF690C7B095+29557]
	(No symbol) [0x00007FF690BEFA50]
	(No symbol) [0x00007FF690AAB56A]
	(No symbol) [0x00007FF690AFF695]
	(No symbol) [0x00007FF690AFF8EC]
	(No symbol) [0x00007FF690B4B777]
	(No symbol) [0x00007FF690B271CF]
	(No symbol) [0x00007FF690B4851C]
	(No symbol) [0x00007FF690B26F33]
	(No symbol) [0x00007FF690AF116F]
	(No symbol) [0x00007FF690AF22D1]
	GetHandleVerifier [0x00007FF690FAC96D+3378253]
	GetHandleVerifier [0x00007FF690FF8497+3688311]
	GetHandleVerifier [0x00007FF690FED1CB+3642539]
	GetHandleVerifier [0x00007FF690D3A6B6+813462]
	(No symbol) [0x00007FF690BFAB5F]
	(No symbol) [0x00007FF690BF6B74]
	(No symbol) [0x00007FF690BF6D10]
	(No symbol) [0x00007FF690BE5C1F]
	BaseThreadInitThunk [0x00007FFF1C26259D+29]
	RtlUserThreadStart [0x00007FFF1DE6AF38+40]

View Buses button not found: Message: 
Stacktrace:
	GetHandleVerifier [0x00007FF690C7B095+29557]
	(No symbol) [0x00007FF690BEFA50]
	(No symbol) [0x00007FF690AAB56A]
	(No symbol) [0x00007FF690AFF695]
	(No symbol) [0x00007FF690AFF8EC]
	(No symbol) [0x00007FF690B4B777]
	(No symbol) [0x00007FF690B271CF]
	(No symbol) [0x00007FF690B4851C]
	(No symbol) [0x00007FF690B26F33]
	(No symbol) [0x00007FF690AF116F]
	(No symbol) [0x00007FF690AF22D1]
	GetHandleVerifier [0x00007FF690FAC96D+3378253]
	GetHandleVerifier [0x00007FF690FF8497+3688311]
	GetHandleVerifier [0x00007FF690FED1CB+3642539]
	GetHandleVerifier [0x00007FF690D3A6B6+813462]
	(No symbol) [0x00007FF690BFAB5F]
	(No symbol) [0x00007FF690BF6B74]
	(No symbol) [0x00007FF690BF6D10]
	(No symbol) [0x00007FF690BE5C1F]
	BaseThreadInitThunk [0x00007FFF1C26259D+29]
	RtlUserThreadStart [0x00007FFF1DE6AF38+40]

View Buses button not found: Message: 
Stacktrace:
	GetHandleVerifier [0x00007FF690C7B095+29557]
	(No symbol) [0x00007FF690BEFA50]
	(No symbol) [0x00007FF690AAB56A]
	(No symbol) [0x00007FF690AFF695]
	(No symbol) [0x00007FF690AFF8EC]
	(No symbol) [0x00007FF690B4B777]
	(No symbol) [0x00007FF690B271CF]
	(No symbol) [0x00007FF690B4851C]
	(No symbol) [0x00007FF690B26F33]
	(No symbol) [0x00007FF690AF116F]
	(No symbol) [0x00007FF690AF22D1]
	GetHandleVerifier [0x00007FF690FAC96D+3378253]
	GetHandleVerifier [0x00007FF690FF8497+3688311]
	GetHandleVerifier [0x00007FF690FED1CB+3642539]
	GetHandleVerifier [0x00007FF690D3A6B6+813462]
	(No symbol) [0x00007FF690BFAB5F]
	(No symbol) [0x00007FF690BF6B74]
	(No symbol) [0x00007FF690BF6D10]
	(No symbol) [0x00007FF690BE5C1F]
	BaseThreadInitThunk [0x00007FFF1C26259D+29]
	RtlUserThreadStart [0x00007FFF1DE6AF38+40]

View Buses button not found: Message: 
Stacktrace:
	GetHandleVerifier [0x00007FF690C7B095+29557]
	(No symbol) [0x00007FF690BEFA50]
	(No symbol) [0x00007FF690AAB56A]
	(No symbol) [0x00007FF690AFF695]
	(No symbol) [0x00007FF690AFF8EC]
	(No symbol) [0x00007FF690B4B777]
	(No symbol) [0x00007FF690B271CF]
	(No symbol) [0x00007FF690B4851C]
	(No symbol) [0x00007FF690B26F33]
	(No symbol) [0x00007FF690AF116F]
	(No symbol) [0x00007FF690AF22D1]
	GetHandleVerifier [0x00007FF690FAC96D+3378253]
	GetHandleVerifier [0x00007FF690FF8497+3688311]
	GetHandleVerifier [0x00007FF690FED1CB+3642539]
	GetHandleVerifier [0x00007FF690D3A6B6+813462]
	(No symbol) [0x00007FF690BFAB5F]
	(No symbol) [0x00007FF690BF6B74]
	(No symbol) [0x00007FF690BF6D10]
	(No symbol) [0x00007FF690BE5C1F]
	BaseThreadInitThunk [0x00007FFF1C26259D+29]
	RtlUserThreadStart [0x00007FFF1DE6AF38+40]

View Buses button not found: Message: 
Stacktrace:
	GetHandleVerifier [0x00007FF690C7B095+29557]
	(No symbol) [0x00007FF690BEFA50]
	(No symbol) [0x00007FF690AAB56A]
	(No symbol) [0x00007FF690AFF695]
	(No symbol) [0x00007FF690AFF8EC]
	(No symbol) [0x00007FF690B4B777]
	(No symbol) [0x00007FF690B271CF]
	(No symbol) [0x00007FF690B4851C]
	(No symbol) [0x00007FF690B26F33]
	(No symbol) [0x00007FF690AF116F]
	(No symbol) [0x00007FF690AF22D1]
	GetHandleVerifier [0x00007FF690FAC96D+3378253]
	GetHandleVerifier [0x00007FF690FF8497+3688311]
	GetHandleVerifier [0x00007FF690FED1CB+3642539]
	GetHandleVerifier [0x00007FF690D3A6B6+813462]
	(No symbol) [0x00007FF690BFAB5F]
	(No symbol) [0x00007FF690BF6B74]
	(No symbol) [0x00007FF690BF6D10]
	(No symbol) [0x00007FF690BE5C1F]
	BaseThreadInitThunk [0x00007FFF1C26259D+29]
	RtlUserThreadStart [0x00007FFF1DE6AF38+40]

View Buses button not found: Message: 
Stacktrace:
	GetHandleVerifier [0x00007FF690C7B095+29557]
	(No symbol) [0x00007FF690BEFA50]
	(No symbol) [0x00007FF690AAB56A]
	(No symbol) [0x00007FF690AFF695]
	(No symbol) [0x00007FF690AFF8EC]
	(No symbol) [0x00007FF690B4B777]
	(No symbol) [0x00007FF690B271CF]
	(No symbol) [0x00007FF690B4851C]
	(No symbol) [0x00007FF690B26F33]
	(No symbol) [0x00007FF690AF116F]
	(No symbol) [0x00007FF690AF22D1]
	GetHandleVerifier [0x00007FF690FAC96D+3378253]
	GetHandleVerifier [0x00007FF690FF8497+3688311]
	GetHandleVerifier [0x00007FF690FED1CB+3642539]
	GetHandleVerifier [0x00007FF690D3A6B6+813462]
	(No symbol) [0x00007FF690BFAB5F]
	(No symbol) [0x00007FF690BF6B74]
	(No symbol) [0x00007FF690BF6D10]
	(No symbol) [0x00007FF690BE5C1F]
	BaseThreadInitThunk [0x00007FFF1C26259D+29]
	RtlUserThreadStart [0x00007FFF1DE6AF38+40]

View Buses button not found: Message: 
Stacktrace:
	GetHandleVerifier [0x00007FF690C7B095+29557]
	(No symbol) [0x00007FF690BEFA50]
	(No symbol) [0x00007FF690AAB56A]
	(No symbol) [0x00007FF690AFF695]
	(No symbol) [0x00007FF690AFF8EC]
	(No symbol) [0x00007FF690B4B777]
	(No symbol) [0x00007FF690B271CF]
	(No symbol) [0x00007FF690B4851C]
	(No symbol) [0x00007FF690B26F33]
	(No symbol) [0x00007FF690AF116F]
	(No symbol) [0x00007FF690AF22D1]
	GetHandleVerifier [0x00007FF690FAC96D+3378253]
	GetHandleVerifier [0x00007FF690FF8497+3688311]
	GetHandleVerifier [0x00007FF690FED1CB+3642539]
	GetHandleVerifier [0x00007FF690D3A6B6+813462]
	(No symbol) [0x00007FF690BFAB5F]
	(No symbol) [0x00007FF690BF6B74]
	(No symbol) [0x00007FF690BF6D10]
	(No symbol) [0x00007FF690BE5C1F]
	BaseThreadInitThunk [0x00007FFF1C26259D+29]
	RtlUserThreadStart [0x00007FFF1DE6AF38+40]

View Buses button not found: Message: 
Stacktrace:
	GetHandleVerifier [0x00007FF690C7B095+29557]
	(No symbol) [0x00007FF690BEFA50]
	(No symbol) [0x00007FF690AAB56A]
	(No symbol) [0x00007FF690AFF695]
	(No symbol) [0x00007FF690AFF8EC]
	(No symbol) [0x00007FF690B4B777]
	(No symbol) [0x00007FF690B271CF]
	(No symbol) [0x00007FF690B4851C]
	(No symbol) [0x00007FF690B26F33]
	(No symbol) [0x00007FF690AF116F]
	(No symbol) [0x00007FF690AF22D1]
	GetHandleVerifier [0x00007FF690FAC96D+3378253]
	GetHandleVerifier [0x00007FF690FF8497+3688311]
	GetHandleVerifier [0x00007FF690FED1CB+3642539]
	GetHandleVerifier [0x00007FF690D3A6B6+813462]
	(No symbol) [0x00007FF690BFAB5F]
	(No symbol) [0x00007FF690BF6B74]
	(No symbol) [0x00007FF690BF6D10]
	(No symbol) [0x00007FF690BE5C1F]
	BaseThreadInitThunk [0x00007FFF1C26259D+29]
	RtlUserThreadStart [0x00007FFF1DE6AF38+40]

View Buses button not found: Message: 
Stacktrace:
	GetHandleVerifier [0x00007FF690C7B095+29557]
	(No symbol) [0x00007FF690BEFA50]
	(No symbol) [0x00007FF690AAB56A]
	(No symbol) [0x00007FF690AFF695]
	(No symbol) [0x00007FF690AFF8EC]
	(No symbol) [0x00007FF690B4B777]
	(No symbol) [0x00007FF690B271CF]
	(No symbol) [0x00007FF690B4851C]
	(No symbol) [0x00007FF690B26F33]
	(No symbol) [0x00007FF690AF116F]
	(No symbol) [0x00007FF690AF22D1]
	GetHandleVerifier [0x00007FF690FAC96D+3378253]
	GetHandleVerifier [0x00007FF690FF8497+3688311]
	GetHandleVerifier [0x00007FF690FED1CB+3642539]
	GetHandleVerifier [0x00007FF690D3A6B6+813462]
	(No symbol) [0x00007FF690BFAB5F]
	(No symbol) [0x00007FF690BF6B74]
	(No symbol) [0x00007FF690BF6D10]
	(No symbol) [0x00007FF690BE5C1F]
	BaseThreadInitThunk [0x00007FFF1C26259D+29]
	RtlUserThreadStart [0x00007FFF1DE6AF38+40]

View Buses button not found: Message: 
Stacktrace:
	GetHandleVerifier [0x00007FF690C7B095+29557]
	(No symbol) [0x00007FF690BEFA50]
	(No symbol) [0x00007FF690AAB56A]
	(No symbol) [0x00007FF690AFF695]
	(No symbol) [0x00007FF690AFF8EC]
	(No symbol) [0x00007FF690B4B777]
	(No symbol) [0x00007FF690B271CF]
	(No symbol) [0x00007FF690B4851C]
	(No symbol) [0x00007FF690B26F33]
	(No symbol) [0x00007FF690AF116F]
	(No symbol) [0x00007FF690AF22D1]
	GetHandleVerifier [0x00007FF690FAC96D+3378253]
	GetHandleVerifier [0x00007FF690FF8497+3688311]
	GetHandleVerifier [0x00007FF690FED1CB+3642539]
	GetHandleVerifier [0x00007FF690D3A6B6+813462]
	(No symbol) [0x00007FF690BFAB5F]
	(No symbol) [0x00007FF690BF6B74]
	(No symbol) [0x00007FF690BF6D10]
	(No symbol) [0x00007FF690BE5C1F]
	BaseThreadInitThunk [0x00007FFF1C26259D+29]
	RtlUserThreadStart [0x00007FFF1DE6AF38+40]

View Buses button not found: Message: 
Stacktrace:
	GetHandleVerifier [0x00007FF690C7B095+29557]
	(No symbol) [0x00007FF690BEFA50]
	(No symbol) [0x00007FF690AAB56A]
	(No symbol) [0x00007FF690AFF695]
	(No symbol) [0x00007FF690AFF8EC]
	(No symbol) [0x00007FF690B4B777]
	(No symbol) [0x00007FF690B271CF]
	(No symbol) [0x00007FF690B4851C]
	(No symbol) [0x00007FF690B26F33]
	(No symbol) [0x00007FF690AF116F]
	(No symbol) [0x00007FF690AF22D1]
	GetHandleVerifier [0x00007FF690FAC96D+3378253]
	GetHandleVerifier [0x00007FF690FF8497+3688311]
	GetHandleVerifier [0x00007FF690FED1CB+3642539]
	GetHandleVerifier [0x00007FF690D3A6B6+813462]
	(No symbol) [0x00007FF690BFAB5F]
	(No symbol) [0x00007FF690BF6B74]
	(No symbol) [0x00007FF690BF6D10]
	(No symbol) [0x00007FF690BE5C1F]
	BaseThreadInitThunk [0x00007FFF1C26259D+29]
	RtlUserThreadStart [0x00007FFF1DE6AF38+40]

View Buses button not found: Message: 
Stacktrace:
	GetHandleVerifier [0x00007FF690C7B095+29557]
	(No symbol) [0x00007FF690BEFA50]
	(No symbol) [0x00007FF690AAB56A]
	(No symbol) [0x00007FF690AFF695]
	(No symbol) [0x00007FF690AFF8EC]
	(No symbol) [0x00007FF690B4B777]
	(No symbol) [0x00007FF690B271CF]
	(No symbol) [0x00007FF690B4851C]
	(No symbol) [0x00007FF690B26F33]
	(No symbol) [0x00007FF690AF116F]
	(No symbol) [0x00007FF690AF22D1]
	GetHandleVerifier [0x00007FF690FAC96D+3378253]
	GetHandleVerifier [0x00007FF690FF8497+3688311]
	GetHandleVerifier [0x00007FF690FED1CB+3642539]
	GetHandleVerifier [0x00007FF690D3A6B6+813462]
	(No symbol) [0x00007FF690BFAB5F]
	(No symbol) [0x00007FF690BF6B74]
	(No symbol) [0x00007FF690BF6D10]
	(No symbol) [0x00007FF690BE5C1F]
	BaseThreadInitThunk [0x00007FFF1C26259D+29]
	RtlUserThreadStart [0x00007FFF1DE6AF38+40]

View Buses button not found: Message: 
Stacktrace:
	GetHandleVerifier [0x00007FF690C7B095+29557]
	(No symbol) [0x00007FF690BEFA50]
	(No symbol) [0x00007FF690AAB56A]
	(No symbol) [0x00007FF690AFF695]
	(No symbol) [0x00007FF690AFF8EC]
	(No symbol) [0x00007FF690B4B777]
	(No symbol) [0x00007FF690B271CF]
	(No symbol) [0x00007FF690B4851C]
	(No symbol) [0x00007FF690B26F33]
	(No symbol) [0x00007FF690AF116F]
	(No symbol) [0x00007FF690AF22D1]
	GetHandleVerifier [0x00007FF690FAC96D+3378253]
	GetHandleVerifier [0x00007FF690FF8497+3688311]
	GetHandleVerifier [0x00007FF690FED1CB+3642539]
	GetHandleVerifier [0x00007FF690D3A6B6+813462]
	(No symbol) [0x00007FF690BFAB5F]
	(No symbol) [0x00007FF690BF6B74]
	(No symbol) [0x00007FF690BF6D10]
	(No symbol) [0x00007FF690BE5C1F]
	BaseThreadInitThunk [0x00007FFF1C26259D+29]
	RtlUserThreadStart [0x00007FFF1DE6AF38+40]

View Buses button not found: Message: 
Stacktrace:
	GetHandleVerifier [0x00007FF690C7B095+29557]
	(No symbol) [0x00007FF690BEFA50]
	(No symbol) [0x00007FF690AAB56A]
	(No symbol) [0x00007FF690AFF695]
	(No symbol) [0x00007FF690AFF8EC]
	(No symbol) [0x00007FF690B4B777]
	(No symbol) [0x00007FF690B271CF]
	(No symbol) [0x00007FF690B4851C]
	(No symbol) [0x00007FF690B26F33]
	(No symbol) [0x00007FF690AF116F]
	(No symbol) [0x00007FF690AF22D1]
	GetHandleVerifier [0x00007FF690FAC96D+3378253]
	GetHandleVerifier [0x00007FF690FF8497+3688311]
	GetHandleVerifier [0x00007FF690FED1CB+3642539]
	GetHandleVerifier [0x00007FF690D3A6B6+813462]
	(No symbol) [0x00007FF690BFAB5F]
	(No symbol) [0x00007FF690BF6B74]
	(No symbol) [0x00007FF690BF6D10]
	(No symbol) [0x00007FF690BE5C1F]
	BaseThreadInitThunk [0x00007FFF1C26259D+29]
	RtlUserThreadStart [0x00007FFF1DE6AF38+40]

View Buses button not found: Message: 
Stacktrace:
	GetHandleVerifier [0x00007FF690C7B095+29557]
	(No symbol) [0x00007FF690BEFA50]
	(No symbol) [0x00007FF690AAB56A]
	(No symbol) [0x00007FF690AFF695]
	(No symbol) [0x00007FF690AFF8EC]
	(No symbol) [0x00007FF690B4B777]
	(No symbol) [0x00007FF690B271CF]
	(No symbol) [0x00007FF690B4851C]
	(No symbol) [0x00007FF690B26F33]
	(No symbol) [0x00007FF690AF116F]
	(No symbol) [0x00007FF690AF22D1]
	GetHandleVerifier [0x00007FF690FAC96D+3378253]
	GetHandleVerifier [0x00007FF690FF8497+3688311]
	GetHandleVerifier [0x00007FF690FED1CB+3642539]
	GetHandleVerifier [0x00007FF690D3A6B6+813462]
	(No symbol) [0x00007FF690BFAB5F]
	(No symbol) [0x00007FF690BF6B74]
	(No symbol) [0x00007FF690BF6D10]
	(No symbol) [0x00007FF690BE5C1F]
	BaseThreadInitThunk [0x00007FFF1C26259D+29]
	RtlUserThreadStart [0x00007FFF1DE6AF38+40]

View Buses button not found: Message: 
Stacktrace:
	GetHandleVerifier [0x00007FF690C7B095+29557]
	(No symbol) [0x00007FF690BEFA50]
	(No symbol) [0x00007FF690AAB56A]
	(No symbol) [0x00007FF690AFF695]
	(No symbol) [0x00007FF690AFF8EC]
	(No symbol) [0x00007FF690B4B777]
	(No symbol) [0x00007FF690B271CF]
	(No symbol) [0x00007FF690B4851C]
	(No symbol) [0x00007FF690B26F33]
	(No symbol) [0x00007FF690AF116F]
	(No symbol) [0x00007FF690AF22D1]
	GetHandleVerifier [0x00007FF690FAC96D+3378253]
	GetHandleVerifier [0x00007FF690FF8497+3688311]
	GetHandleVerifier [0x00007FF690FED1CB+3642539]
	GetHandleVerifier [0x00007FF690D3A6B6+813462]
	(No symbol) [0x00007FF690BFAB5F]
	(No symbol) [0x00007FF690BF6B74]
	(No symbol) [0x00007FF690BF6D10]
	(No symbol) [0x00007FF690BE5C1F]
	BaseThreadInitThunk [0x00007FFF1C26259D+29]
	RtlUserThreadStart [0x00007FFF1DE6AF38+40]

View Buses button not found: Message: 
Stacktrace:
	GetHandleVerifier [0x00007FF690C7B095+29557]
	(No symbol) [0x00007FF690BEFA50]
	(No symbol) [0x00007FF690AAB56A]
	(No symbol) [0x00007FF690AFF695]
	(No symbol) [0x00007FF690AFF8EC]
	(No symbol) [0x00007FF690B4B777]
	(No symbol) [0x00007FF690B271CF]
	(No symbol) [0x00007FF690B4851C]
	(No symbol) [0x00007FF690B26F33]
	(No symbol) [0x00007FF690AF116F]
	(No symbol) [0x00007FF690AF22D1]
	GetHandleVerifier [0x00007FF690FAC96D+3378253]
	GetHandleVerifier [0x00007FF690FF8497+3688311]
	GetHandleVerifier [0x00007FF690FED1CB+3642539]
	GetHandleVerifier [0x00007FF690D3A6B6+813462]
	(No symbol) [0x00007FF690BFAB5F]
	(No symbol) [0x00007FF690BF6B74]
	(No symbol) [0x00007FF690BF6D10]
	(No symbol) [0x00007FF690BE5C1F]
	BaseThreadInitThunk [0x00007FFF1C26259D+29]
	RtlUserThreadStart [0x00007FFF1DE6AF38+40]

View Buses button not found: Message: 
Stacktrace:
	GetHandleVerifier [0x00007FF690C7B095+29557]
	(No symbol) [0x00007FF690BEFA50]
	(No symbol) [0x00007FF690AAB56A]
	(No symbol) [0x00007FF690AFF695]
	(No symbol) [0x00007FF690AFF8EC]
	(No symbol) [0x00007FF690B4B777]
	(No symbol) [0x00007FF690B271CF]
	(No symbol) [0x00007FF690B4851C]
	(No symbol) [0x00007FF690B26F33]
	(No symbol) [0x00007FF690AF116F]
	(No symbol) [0x00007FF690AF22D1]
	GetHandleVerifier [0x00007FF690FAC96D+3378253]
	GetHandleVerifier [0x00007FF690FF8497+3688311]
	GetHandleVerifier [0x00007FF690FED1CB+3642539]
	GetHandleVerifier [0x00007FF690D3A6B6+813462]
	(No symbol) [0x00007FF690BFAB5F]
	(No symbol) [0x00007FF690BF6B74]
	(No symbol) [0x00007FF690BF6D10]
	(No symbol) [0x00007FF690BE5C1F]
	BaseThreadInitThunk [0x00007FFF1C26259D+29]
	RtlUserThreadStart [0x00007FFF1DE6AF38+40]

Scraping completed and data saved to 'assam_bus_details.csv'

